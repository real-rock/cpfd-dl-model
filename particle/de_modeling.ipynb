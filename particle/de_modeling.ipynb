{
 "cells": [
  {
   "cell_type": "markdown",
   "id": "87c9673e-837b-4a6a-aa2d-0e3417fb25f3",
   "metadata": {},
   "source": [
    "# Differential Equation Modeling\n",
    "1. List 자르기\n",
    "2. $p',\\, k'$ 최적화\n",
    "3. $\\frac{C_{in}(t)}{dt}=p'C_{out}-k'C_{in}+\\dot s$"
   ]
  },
  {
   "cell_type": "code",
   "execution_count": null,
   "id": "5e2bd9ab-0600-4b7d-a93a-a598ec948d6d",
   "metadata": {
    "vscode": {
     "languageId": "python"
    }
   },
   "outputs": [],
   "source": [
    "import scipy.optimize as op\n",
    "import pandas as pd\n",
    "import numpy as np"
   ]
  },
  {
   "cell_type": "code",
   "execution_count": null,
   "id": "95cddad6-0853-43c5-bad1-beed3e7a9f78",
   "metadata": {
    "vscode": {
     "languageId": "python"
    }
   },
   "outputs": [],
   "source": [
    "import sys\n",
    "\n",
    "sys.path.append(\"codes/scripts/particles/\")\n",
    "\n",
    "import data_handler as dh\n",
    "import metrics\n",
    "import utils"
   ]
  },
  {
   "cell_type": "code",
   "execution_count": null,
   "id": "6769a561-de1f-4d4e-a90b-acedf4741f32",
   "metadata": {
    "vscode": {
     "languageId": "python"
    }
   },
   "outputs": [],
   "source": [
    "moving_average_window = 20\n",
    "moving_average_method = 'mean'\n",
    "\n",
    "excludes = ['PERSON_NUMBER', 'AIR_PURIFIER',\n",
    "            'AIR_CONDITIONER', 'WINDOW', 'DOOR']\n",
    "df_org = pd.read_csv('storage/particle/data.csv', index_col='DATE', parse_dates=True)\n",
    "df = dh.apply_moving_average(df_org,\n",
    "                             window=moving_average_window,\n",
    "                             method=moving_average_method,\n",
    "                             excludes=excludes)\n",
    "df = pd.concat([df, df_org[excludes]], axis=1)\n"
   ]
  },
  {
   "cell_type": "code",
   "execution_count": null,
   "id": "0e5d2490",
   "metadata": {
    "vscode": {
     "languageId": "python"
    }
   },
   "outputs": [],
   "source": [
    "def get_cond_df(_df, cond_in):\n",
    "    cond_cols = ['PERSON_NUMBER', 'AIR_PURIFIER', 'AIR_CONDITIONER', 'WINDOW', 'DOOR']\n",
    "    cond_df = _df.copy()\n",
    "    if len(cond_in) != 5:\n",
    "        print('[ERROR] Invalid condition length')\n",
    "        raise Exception('Invalid condition length')\n",
    "    if cond_in[0] == '0':\n",
    "        cond_df = cond_df[cond_df[cond_cols[0]] == 0]\n",
    "    elif cond_in[1] == '1':\n",
    "        cond_df = cond_df[cond_df[cond_cols[0]] != 0]\n",
    "    for i in range(1, 5, 1):\n",
    "        if cond_in[i] == 'x' or cond_in[i] == 'X':\n",
    "            continue\n",
    "        cond_df = cond_df[cond_df[cond_cols[i]] == int(cond_in[i])]\n",
    "    return cond_df"
   ]
  },
  {
   "cell_type": "code",
   "execution_count": null,
   "id": "6b1343ec",
   "metadata": {
    "vscode": {
     "languageId": "python"
    }
   },
   "outputs": [],
   "source": [
    "def catch_dates(_df, min_length=10):\n",
    "    dates = {\"start\": [], \"end\": []}\n",
    "\n",
    "    start_date = None\n",
    "    end_date = None\n",
    "    cnt = 0\n",
    "    for idx, row in _df.iterrows():\n",
    "        if np.isnan(row['PM2.5']) or np.isnan(row['PM2.5_H_OUT']) or np.isnan(row['PM2.5_OUT']):\n",
    "            if start_date is not None and end_date is not None and cnt >= min_length:\n",
    "                dates[\"start\"].append(start_date)\n",
    "                dates[\"end\"].append(end_date)\n",
    "            start_date = None\n",
    "            end_date = None\n",
    "            cnt = 0\n",
    "        else:\n",
    "            if start_date is None:\n",
    "                start_date = idx\n",
    "            end_date = idx\n",
    "            cnt += 1\n",
    "    if start_date is not None and end_date is not None:\n",
    "        dates[\"start\"].append(start_date)\n",
    "        dates[\"end\"].append(end_date)\n",
    "    return dates"
   ]
  },
  {
   "cell_type": "code",
   "execution_count": null,
   "id": "3a73cb36",
   "metadata": {
    "vscode": {
     "languageId": "python"
    }
   },
   "outputs": [],
   "source": [
    "train_df = get_cond_df(df, '00000').loc[:pd.to_datetime('2022-07-07 13:45')].resample('1T').mean()\n",
    "test_df = get_cond_df(df, '00000').loc[pd.to_datetime('2022-07-07 13:46'):].resample('1T').mean()\n",
    "train_dates = catch_dates(train_df, 60)\n",
    "test_dates = catch_dates(test_df, 60)\n",
    "\n",
    "train_dates_df = pd.DataFrame(train_dates)\n",
    "test_dates_df = pd.DataFrame(test_dates)\n",
    "\n",
    "train_dates_df = train_dates_df.drop(38)\n",
    "train_dates_df.index = np.arange(len(train_dates_df))\n",
    "\n",
    "test_dates_df = test_dates_df.drop(list(range(6,12)) + [28, 29])\n",
    "test_dates_df.index = np.arange(len(test_dates_df))"
   ]
  },
  {
   "cell_type": "code",
   "execution_count": null,
   "id": "55e355b1",
   "metadata": {
    "vscode": {
     "languageId": "python"
    }
   },
   "outputs": [],
   "source": [
    "train_dfs = []\n",
    "test_dfs = []\n",
    "\n",
    "for i in range(train_dates_df.shape[0]):\n",
    "    train_dfs.append(train_df[(train_df.index >= train_dates_df['start'][i]) & (train_df.index <= train_dates_df['end'][i])])\n",
    "#_ = utils.plot(pd.concat(train_dfs), ['PM2.5', 'PM2.5_OUT', 'PM2.5_H_OUT'])\n",
    "\n",
    "for i in range(test_dates_df.shape[0]):\n",
    "    test_dfs.append(test_df[(test_df.index >= test_dates_df['start'][i]) & (test_df.index <= test_dates_df['end'][i])])\n",
    "#_ = utils.plot(pd.concat(test_dfs), ['PM2.5', 'PM2.5_OUT', 'PM2.5_H_OUT'])"
   ]
  },
  {
   "cell_type": "code",
   "execution_count": null,
   "id": "8339a532",
   "metadata": {
    "vscode": {
     "languageId": "python"
    }
   },
   "outputs": [],
   "source": [
    "target = 'PM1'\n",
    "\n",
    "def predict(par, _df):\n",
    "    p1 = par[0]\n",
    "    p2 = par[1]\n",
    "    k = par[2]\n",
    "\n",
    "    idx_out = target + '_OUT'\n",
    "    idx_h = target + '_H_OUT'\n",
    "    pred = np.zeros(_df.shape[0])\n",
    "    pred[0] = _df[target].iloc[0]\n",
    "\n",
    "    for i in range(0, _df.shape[0] - 1):\n",
    "        delt = (_df.index[i + 1] - _df.index[i]).total_seconds() / 3600.0\n",
    "        pred[i + 1] = pred[i] + delt * (p1 * (_df[idx_out].iloc[i + 1] + _df[idx_out].iloc[i]) / 2 + \n",
    "                                        p2 * (_df[idx_h].iloc[i + 1] + _df[idx_h].iloc[i]) / 2 - k * pred[i] / 2)\n",
    "        pred[i + 1] /= (1 + k / 2)\n",
    "\n",
    "    return pred\n",
    "\n",
    "\n",
    "def predict_without_hall(par, _df):\n",
    "    p1 = par[0]\n",
    "    k = par[1]\n",
    "\n",
    "    idx_out = target + '_OUT'\n",
    "    pred = np.zeros(_df.shape[0])\n",
    "    pred[0] = _df[target].iloc[0]\n",
    "\n",
    "    for i in range(0, _df.shape[0] - 1):\n",
    "        delt = (_df.index[i + 1] - _df.index[i]).total_seconds() / 3600.0\n",
    "        pred[i + 1] = pred[i] + delt * (p1 * (_df[idx_out].iloc[i + 1] + _df[idx_out].iloc[i]) / 2)\n",
    "        pred[i + 1] = pred[i + 1] / (1 + k / 2)\n",
    "\n",
    "    return pred\n",
    "\n",
    "\n",
    "def loss_func(par, _dfs=test_dfs):\n",
    "    _meas_res = []\n",
    "    _pred_res = []\n",
    "    \n",
    "    predictor = None\n",
    "    if len(par) == 3:\n",
    "        predictor = predict\n",
    "    else:\n",
    "        predictor = predict_without_hall\n",
    "    \n",
    "    for _df in _dfs:\n",
    "        _pred_res.append(predictor(par, _df))\n",
    "        _meas_res.append(_df[target].values)\n",
    "\n",
    "    _meas = np.concatenate(_meas_res, axis=None)\n",
    "    _pred = np.concatenate(_pred_res, axis=None)\n",
    "\n",
    "    return np.var(_meas - _pred)\n",
    "\n",
    "\n",
    "def get_results(par, _dfs):\n",
    "    _res_dfs = []\n",
    "\n",
    "    if len(par) == 3:\n",
    "        predictor = predict\n",
    "    else:\n",
    "        predictor = predict_without_hall\n",
    "        \n",
    "    for i, _df in enumerate(_dfs):\n",
    "        pred_res = predictor(par, _df)\n",
    "        _df[target + '_PRED'] = pred_res\n",
    "\n",
    "        _res_dfs.append(_df.copy())\n",
    "\n",
    "    return pd.concat(_res_dfs)\n"
   ]
  },
  {
   "cell_type": "code",
   "execution_count": null,
   "id": "cf98b046",
   "metadata": {
    "vscode": {
     "languageId": "python"
    }
   },
   "outputs": [],
   "source": [
    "bounds = [(0, 2)] * 2\n",
    "results = dict()\n",
    "\n",
    "results = op.shgo(loss_func, bounds=bounds)"
   ]
  },
  {
   "cell_type": "code",
   "execution_count": null,
   "id": "50cd3d98",
   "metadata": {
    "vscode": {
     "languageId": "python"
    }
   },
   "outputs": [],
   "source": [
    "results.x.tolist()"
   ]
  },
  {
   "cell_type": "code",
   "execution_count": null,
   "id": "f5e331d2",
   "metadata": {
    "vscode": {
     "languageId": "python"
    }
   },
   "outputs": [],
   "source": [
    "test_df"
   ]
  },
  {
   "cell_type": "code",
   "execution_count": null,
   "id": "0ca12772",
   "metadata": {
    "vscode": {
     "languageId": "python"
    }
   },
   "outputs": [],
   "source": [
    "data = np.zeros((3, 3))"
   ]
  },
  {
   "cell_type": "code",
   "execution_count": null,
   "id": "6434ab91",
   "metadata": {
    "vscode": {
     "languageId": "python"
    }
   },
   "outputs": [],
   "source": [
    "data[2] = results.x.tolist()"
   ]
  },
  {
   "cell_type": "code",
   "execution_count": null,
   "id": "ab619f08",
   "metadata": {
    "vscode": {
     "languageId": "python"
    }
   },
   "outputs": [],
   "source": [
    "train_res_df = get_results(results.x.tolist(), train_dfs)\n",
    "test_res_df = get_results(results.x.tolist(), test_dfs)"
   ]
  },
  {
   "cell_type": "code",
   "execution_count": null,
   "id": "1890f0e6",
   "metadata": {
    "vscode": {
     "languageId": "python"
    }
   },
   "outputs": [],
   "source": [
    "train_res_df['TYPE'] = 'train'\n",
    "test_res_df['TYPE'] = 'test'\n",
    "res_df = pd.concat([train_res_df, test_res_df])"
   ]
  },
  {
   "cell_type": "code",
   "execution_count": null,
   "id": "26569fbb",
   "metadata": {
    "vscode": {
     "languageId": "python"
    }
   },
   "outputs": [],
   "source": [
    "#res_df.to_csv('projects/particle/ode/pm10_pred.csv', index_label='DATE')"
   ]
  },
  {
   "cell_type": "code",
   "execution_count": null,
   "id": "c67e5bdd",
   "metadata": {
    "vscode": {
     "languageId": "python"
    }
   },
   "outputs": [],
   "source": [
    "_ = utils.plot(res_df, [target, target + '_PRED'])"
   ]
  },
  {
   "cell_type": "code",
   "execution_count": null,
   "id": "9bc98689",
   "metadata": {
    "vscode": {
     "languageId": "python"
    }
   },
   "outputs": [],
   "source": []
  }
 ],
 "metadata": {
  "kernelspec": {
   "display_name": "Python 3",
   "language": "python",
   "name": "python3"
  },
  "language_info": {
   "codemirror_mode": {
    "name": "ipython",
    "version": 3
   },
   "file_extension": ".py",
   "mimetype": "text/x-python",
   "name": "python",
   "nbconvert_exporter": "python",
   "pygments_lexer": "ipython3",
   "version": "3.9.0"
  }
 },
 "nbformat": 4,
 "nbformat_minor": 5
}
