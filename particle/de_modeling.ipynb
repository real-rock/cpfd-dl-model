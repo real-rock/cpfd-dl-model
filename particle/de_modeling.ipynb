{
 "cells": [
  {
   "cell_type": "markdown",
   "id": "87c9673e-837b-4a6a-aa2d-0e3417fb25f3",
   "metadata": {},
   "source": [
    "# Differential Equation Modeling\n",
    "1. List 자르기\n",
    "2. $p',\\, k'$ 최적화\n",
    "3. $\\frac{C_{in}(t)}{dt}=p'C_{out}-k'C_{in}+\\dot s$"
   ]
  },
  {
   "cell_type": "code",
   "execution_count": 2,
   "id": "5e2bd9ab-0600-4b7d-a93a-a598ec948d6d",
   "metadata": {},
   "outputs": [],
   "source": [
    "import scipy.optimize as op\n",
    "import pandas as pd\n",
    "import numpy as np"
   ]
  },
  {
   "cell_type": "code",
   "execution_count": 3,
   "id": "95cddad6-0853-43c5-bad1-beed3e7a9f78",
   "metadata": {},
   "outputs": [],
   "source": [
    "import sys\n",
    "\n",
    "sys.path.append(\"../scripts/particles/\")\n",
    "import data_handler as dh\n",
    "import metrics\n",
    "import utils"
   ]
  },
  {
   "cell_type": "code",
   "execution_count": null,
   "id": "6769a561-de1f-4d4e-a90b-acedf4741f32",
   "metadata": {},
   "outputs": [],
   "source": [
    "outputs = 'PM2.5'\n",
    "inputs = [\n",
    "    'PM2.5_OUT',\n",
    "    'PERSON_NUMBER',\n",
    "    'AIR_PURIFIER',\n",
    "    'WINDOW',\n",
    "    'DOOR',\n",
    "]\n",
    "\n",
    "moving_average_window = 20\n",
    "moving_average_method = 'mean'\n",
    "val_size = 0.15\n",
    "test_size = 0.25\n",
    "train_size = 1 - val_size - test_size"
   ]
  }
 ],
 "metadata": {
  "kernelspec": {
   "display_name": "Python 3 (ipykernel)",
   "language": "python",
   "name": "python3"
  },
  "language_info": {
   "codemirror_mode": {
    "name": "ipython",
    "version": 3
   },
   "file_extension": ".py",
   "mimetype": "text/x-python",
   "name": "python",
   "nbconvert_exporter": "python",
   "pygments_lexer": "ipython3",
   "version": "3.9.0"
  }
 },
 "nbformat": 4,
 "nbformat_minor": 5
}
