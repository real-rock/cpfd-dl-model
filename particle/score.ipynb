{
 "cells": [
  {
   "cell_type": "code",
   "execution_count": null,
   "id": "4794dc93-646c-4eab-bd68-a5c6bf3ac978",
   "metadata": {},
   "outputs": [],
   "source": [
    "import os\n",
    "import json\n",
    "import numpy as np\n",
    "import pandas as pd\n",
    "import sys\n",
    "\n",
    "sys.path.append(\"./scripts/particles/\")\n",
    "\n",
    "import matplotlib as mpl\n",
    "mpl.rcParams['figure.dpi'] = 200"
   ]
  },
  {
   "cell_type": "code",
   "execution_count": null,
   "id": "88de10e3-fbdf-4910-a538-613a96e6b269",
   "metadata": {},
   "outputs": [],
   "source": [
    "import data_handler as dh\n",
    "import metrics\n",
    "import utils"
   ]
  },
  {
   "cell_type": "code",
   "execution_count": null,
   "id": "e7427606-5bff-4c09-b603-0a6e45a121c2",
   "metadata": {},
   "outputs": [],
   "source": [
    "weather_df = pd.read_csv('../storage/particle/weather.csv', index_col='DATE', parse_dates=True)[['TEMPERATURE', 'WIND_DEG', 'WIND_SPEED', 'HUMIDITY']]\n",
    "weather_df['WIND_DEG'] = np.sin(weather_df['WIND_DEG'].values * np.pi / 180)\n",
    "\n",
    "df_org = dh.load_data(\"../storage/particle/data.csv\")\n",
    "df_org = dh.add_pm_diff(df_org)"
   ]
  },
  {
   "cell_type": "code",
   "execution_count": null,
   "id": "b0c1c07e-84cf-4664-8094-f3df09d480a8",
   "metadata": {},
   "outputs": [],
   "source": [
    "df[(df.index >= pd.to_datetime('2022-05-07 09:40')) & (df.index <= pd.to_datetime('2022-09-01'))].to_csv('data.csv', index_label='DATE')"
   ]
  },
  {
   "cell_type": "code",
   "execution_count": null,
   "id": "96a01dec-655e-4610-8104-ff0ded7d0674",
   "metadata": {},
   "outputs": [],
   "source": [
    "ll = os.listdir('../projects/particle/kt/bo/conv_01/')\n",
    "ll = [x for x in ll if len(x.split('_')) != 0 and x.split('_')[0] == 'trial']"
   ]
  },
  {
   "cell_type": "code",
   "execution_count": null,
   "id": "d6fcd11a-b4f3-49a6-baa2-dc4f133e4856",
   "metadata": {
    "tags": []
   },
   "outputs": [],
   "source": [
    "root = '../projects/particle/kt/bo/conv_01/'\n",
    "dd = []\n",
    "for l in ll:\n",
    "    dir_path = root + l\n",
    "    f = open(dir_path+'/trial.json', 'r')\n",
    "    dd.append(json.load(f))\n",
    "    f.close()"
   ]
  },
  {
   "cell_type": "code",
   "execution_count": null,
   "id": "e8777795-eb56-45c3-a769-674ccf0fc4f9",
   "metadata": {},
   "outputs": [],
   "source": [
    "score = [x['score'] for x in dd if x['score'] != None]\n",
    "params = [x['hyperparameters'] for x in dd if x['score'] != None]"
   ]
  },
  {
   "cell_type": "code",
   "execution_count": null,
   "id": "4f36b181-7a15-4e70-8cb4-46a19d24c0aa",
   "metadata": {},
   "outputs": [],
   "source": [
    "score_data = np.array(score)"
   ]
  },
  {
   "cell_type": "code",
   "execution_count": null,
   "id": "48837fb6-05c7-4203-bc9c-36bbc9492c98",
   "metadata": {},
   "outputs": [],
   "source": [
    "models = ['conv_09', 'conv_10', 'conv_11', 'conv_14', 'conv_17', 'conv_18', 'conv_19', 'conv_20', 'conv_21', 'conv_22', 'conv_23', 'conv_24']\n",
    "pms = ['pm1', 'pm2.5', 'pm10']"
   ]
  },
  {
   "cell_type": "code",
   "execution_count": null,
   "id": "eb780463-30b5-4379-9606-b4d993ebce2a",
   "metadata": {},
   "outputs": [],
   "source": [
    "pm_dict = {\n",
    "    'pm1': [],\n",
    "    'pm2.5': [],\n",
    "    'pm10': []\n",
    "}\n",
    "\n",
    "for m in models:\n",
    "    for pm in pms:\n",
    "        pm_dict[pm].append(pd.read_csv(f'../projects/particle/model/{m}/result/metric/result_{pm}.csv', index_col='Metric'))"
   ]
  },
  {
   "cell_type": "code",
   "execution_count": null,
   "id": "80b384c3-d4c5-4641-8c86-ec6451bbde60",
   "metadata": {},
   "outputs": [],
   "source": [
    "data = np.zeros((len(models), 4))\n",
    "dfs = pm_dict['pm1']\n",
    "for i, df in enumerate(dfs):\n",
    "    for j, c in enumerate(list(df.columns)):\n",
    "        data[i, j] = df[c]['R Square']"
   ]
  },
  {
   "cell_type": "code",
   "execution_count": null,
   "id": "4d0a3a47-fc10-40ed-99d2-3e6e548a1f07",
   "metadata": {},
   "outputs": [],
   "source": [
    "dd = pd.DataFrame(data, index=models, columns=df.columns)\n",
    "ax = dd.plot(kind='line', marker='o', linestyle='dashed', figsize=(22, 10), fontsize=14)\n",
    "ax.set_xticks(ticks=np.arange(0, len(models), 1), labels=dd.index, rotation=45)\n",
    "ax.set_ylabel('$R^2$', fontsize=17)\n",
    "ax.set_xlabel('Model', fontsize=17)"
   ]
  },
  {
   "cell_type": "code",
   "execution_count": null,
   "id": "0935b5f6-511b-4cac-9937-192891d90ce1",
   "metadata": {},
   "outputs": [],
   "source": []
  }
 ],
 "metadata": {
  "kernelspec": {
   "display_name": "Python 3 (ipykernel)",
   "language": "python",
   "name": "python3"
  },
  "language_info": {
   "codemirror_mode": {
    "name": "ipython",
    "version": 3
   },
   "file_extension": ".py",
   "mimetype": "text/x-python",
   "name": "python",
   "nbconvert_exporter": "python",
   "pygments_lexer": "ipython3",
   "version": "3.9.0"
  }
 },
 "nbformat": 4,
 "nbformat_minor": 5
}
