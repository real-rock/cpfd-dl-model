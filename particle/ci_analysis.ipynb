{
 "cells": [
  {
   "cell_type": "code",
   "execution_count": null,
   "id": "6c8cbec3-8ee8-4cd2-a87c-ee4e4030ef00",
   "metadata": {},
   "outputs": [],
   "source": [
    "import matplotlib as mpl\n",
    "import sys\n",
    "import json\n",
    "\n",
    "import pandas as pd\n",
    "import numpy as np\n",
    "from matplotlib import pyplot as plt\n",
    "\n",
    "import tensorflow as tf\n",
    "\n",
    "sys.path.append('../scripts/particles/')\n",
    "\n",
    "mpl.rcParams['figure.dpi'] = 200\n"
   ]
  },
  {
   "cell_type": "code",
   "execution_count": null,
   "id": "77b74098-9995-474d-969e-141a5c930e19",
   "metadata": {},
   "outputs": [],
   "source": [
    "import data_handler as dh\n",
    "import metrics\n",
    "import utils"
   ]
  },
  {
   "cell_type": "code",
   "execution_count": null,
   "id": "a71c288b-7bbc-42a5-92b6-85746ab15581",
   "metadata": {},
   "outputs": [],
   "source": [
    "outputs = ['PM1', 'PM2.5', 'PM10']\n",
    "inputs = [\n",
    "    'PM1_2.5_OUT',\n",
    "    'PM1_2.5_H_OUT',\n",
    "    'PM2.5_OUT',\n",
    "    'PM2.5_H_OUT',\n",
    "    'PM2.5_10_OUT',\n",
    "    'PM2.5_10_H_OUT',\n",
    "    'PERSON_NUMBER',\n",
    "    'AIR_PURIFIER',\n",
    "    'WINDOW',\n",
    "    'AIR_CONDITIONER',\n",
    "    'DOOR',\n",
    "    'WIND_DEG',\n",
    "    'HUMIDITY'\n",
    "]\n",
    "\n",
    "cis = [x for x in np.arange(0, 1 + 0.05, 0.05)]\n",
    "dropouts = [x for x in np.arange(0.2, 0.6 + 0.05, 0.05)]"
   ]
  },
  {
   "cell_type": "code",
   "execution_count": null,
   "id": "0bc6ce08-b004-4335-a97b-f2d1e9e7c7ed",
   "metadata": {},
   "outputs": [],
   "source": [
    "def plot_ci(_df, title=None):\n",
    "    ax = _df.plot(y=\"pred\", figsize=(30, 10), color=\"r\")\n",
    "    # ax = _df.plot(y=\"real\", figsize=(30, 10), color=\"b\", ax=ax)\n",
    "    ax.fill_between(\n",
    "        _df.index,\n",
    "        _df[\"lower\"],\n",
    "        _df[\"upper\"],\n",
    "        facecolor=\"green\",\n",
    "        alpha=0.2,\n",
    "        interpolate=True,\n",
    "    )\n",
    "    if title is not None:\n",
    "        plt.suptitle(title, fontsize=22)\n",
    "    ax.legend(fontsize=17)\n",
    "    ax.set_ylabel('$PM \\mu g/m^3$', fontsize=17)\n",
    "    plt.show()"
   ]
  },
  {
   "cell_type": "code",
   "execution_count": null,
   "id": "f41d7f04-ae9c-4605-a52c-6c32203c291d",
   "metadata": {},
   "outputs": [],
   "source": [
    "ci_df_n15 = pd.read_csv(f\"../../projects/particle/ci_result/pm-15/ci/d_0.55_ci_0.95_PM1.csv\")\n",
    "# ci_df_n5 = pd.read_csv(f\"../../projects/particle/ci_result/pm-5/ci/d_0.55_ci_0.95_PM1.csv\")\n",
    "ci_df_org = pd.read_csv(f\"../../projects/particle/ci_result/pm/ci/d_0.55_ci_0.95_PM1.csv\")\n",
    "# ci_df_5 = pd.read_csv(f\"../../projects/particle/ci_result/pm05/ci/d_0.55_ci_0.95_PM1.csv\")\n",
    "ci_df_15 = pd.read_csv(f\"../../projects/particle/ci_result/pm15/ci/d_0.55_ci_0.95_PM1.csv\")"
   ]
  },
  {
   "cell_type": "code",
   "execution_count": null,
   "id": "59e1d949-c848-46fa-aea6-4f62c399b3f0",
   "metadata": {},
   "outputs": [],
   "source": [
    "ci_df_n15['width'] = ci_df_n15['upper'] - ci_df_n15['lower']\n",
    "# ci_df_n5['width'] = ci_df_n5['upper'] - ci_df_n5['lower']\n",
    "ci_df_org['width'] = ci_df_org['upper'] - ci_df_org['lower']\n",
    "# ci_df_5['width'] = ci_df_5['upper'] - ci_df_5['lower']\n",
    "ci_df_15['width'] = ci_df_15['upper'] - ci_df_15['lower']"
   ]
  },
  {
   "cell_type": "code",
   "execution_count": null,
   "id": "543c9125-ef87-457c-816a-fce6e3f18643",
   "metadata": {},
   "outputs": [],
   "source": [
    "width_df = pd.concat([\n",
    "    ci_df_n15['width'], \n",
    "    # ci_df_n5['width'], \n",
    "    ci_df_org['width'], \n",
    "    # ci_df_5['width'], \n",
    "    ci_df_15['width']\n",
    "]\n",
    "    , axis=1)\n",
    "width_df.columns = ['-15', 'org', '+15']"
   ]
  },
  {
   "cell_type": "code",
   "execution_count": null,
   "id": "53e35a98-54c5-4fae-b3bb-022b4fa5840b",
   "metadata": {},
   "outputs": [],
   "source": [
    "ax = width_df.plot(kind='hist', bins=300, alpha=0.6, figsize=(22, 10))\n",
    "ax.set_title('Deep learning model prediction width distribution', fontsize=17)"
   ]
  },
  {
   "cell_type": "code",
   "execution_count": null,
   "id": "e505edcd",
   "metadata": {},
   "outputs": [],
   "source": [
    "ci_df_org.describe().transpose()"
   ]
  },
  {
   "cell_type": "code",
   "execution_count": null,
   "id": "150543c9-65b3-4cdb-b239-32ecec02ee25",
   "metadata": {},
   "outputs": [],
   "source": [
    "ci_df_n15.describe().transpose()"
   ]
  },
  {
   "cell_type": "code",
   "execution_count": null,
   "id": "e0912872-fa2a-4ead-9418-2d41dd0b986c",
   "metadata": {},
   "outputs": [],
   "source": [
    "ci_df_15.describe().transpose()"
   ]
  },
  {
   "cell_type": "code",
   "execution_count": null,
   "id": "0006c4a2-0a64-4516-9692-a024a3560bcf",
   "metadata": {},
   "outputs": [],
   "source": [
    "ax = ci_df_15.plot.scatter(x='pred', y='lower', figsize=(8, 8), c=\"lightcoral\")\n",
    "ax = ci_df_15.plot.scatter(x='pred', y='upper', figsize=(8, 8), c=\"cornflowerblue\", ax=ax)\n",
    "ax.set_title('pred-lower,upper', fontsize=17)\n",
    "ax.set_xlabel('pred', fontsize=17)\n",
    "ax.set_ylabel('lower, upper', fontsize=17)\n",
    "\n",
    "lims = [\n",
    "    np.min([ax.get_xlim(), ax.get_ylim()]),\n",
    "    np.max([ax.get_xlim(), ax.get_ylim()]),\n",
    "]\n",
    "\n",
    "ax.plot(lims, lims, \"r-\", linewidth=2, alpha=0.75, zorder=2)\n",
    "ax.set_aspect(\"equal\")"
   ]
  },
  {
   "cell_type": "code",
   "execution_count": null,
   "id": "0abee413-c03d-4512-a6ca-52f8a7b2cb71",
   "metadata": {},
   "outputs": [],
   "source": [
    "ci_df_15.plot.scatter(x=['pred', 'pred'], y=['lower', 'upper'], figsize=(8, 8))"
   ]
  },
  {
   "cell_type": "code",
   "execution_count": null,
   "id": "45f701b9-9354-44a8-aa2a-620ce22010e2",
   "metadata": {},
   "outputs": [],
   "source": [
    "plot_ci(ci_df_n15, '95% CI with dropout 0.55 in original input')"
   ]
  },
  {
   "cell_type": "code",
   "execution_count": null,
   "id": "c7327dc6-bf5b-46b6-84f3-bdbede8ff664",
   "metadata": {},
   "outputs": [],
   "source": [
    "plot_ci(ci_df_org, '95% CI with dropout 0.55 in increased PM_OUT for $5 \\mu g/m^3$')"
   ]
  },
  {
   "cell_type": "code",
   "execution_count": null,
   "id": "45f701b9-9354-44a8-aa2a-620ce22010e2",
   "metadata": {},
   "outputs": [],
   "source": [
    "plot_ci(ci_df_15, '95% CI with dropout 0.55 in original input')"
   ]
  },
  {
   "cell_type": "code",
   "execution_count": null,
   "id": "432b4b4b-de87-4bc8-9d28-b4ebf5e0f03c",
   "metadata": {},
   "outputs": [],
   "source": [
    "names = [\"pm-15\", \"pm\", \"pm15\"]\n",
    "root_dir = \"../../projects/particle/ci_result/\"\n",
    "for proj_dir in [root_dir + x for x in names]:\n",
    "    for idx in range(3):\n",
    "        res = np.zeros((len(dropouts) * len(cis), 3))\n",
    "        res_index = 0\n",
    "        for dropout in dropouts:\n",
    "            for ci in cis:\n",
    "                path = f\"{proj_dir}/ci/d_{dropout:.2f}_ci_{ci:.2f}_{outputs[idx]}.csv\"\n",
    "                df = pd.read_csv(path)\n",
    "                df = df[[\"real\", \"lower\", \"upper\", \"pred\"]]\n",
    "                score = (\n",
    "                    len(df[(df[\"real\"] <= df[\"upper\"]) & (df[\"real\"] >= df[\"lower\"])])\n",
    "                    / len(df)\n",
    "                    * 100\n",
    "                )\n",
    "                res[res_index] = np.array([np.round(dropout, 3), ci, score])\n",
    "                res_index += 1\n",
    "        pd.DataFrame(res, columns=[\"dropout\", \"ci\", \"score\"]).to_csv(\n",
    "            f\"{proj_dir}/ci_{outputs[idx]}.csv\", index=False\n",
    "        )\n"
   ]
  },
  {
   "cell_type": "code",
   "execution_count": null,
   "id": "ff68987c-d80f-48a8-84a0-84c8329eea11",
   "metadata": {},
   "outputs": [],
   "source": [
    "ax = None\n",
    "pm1_ci = pd.read_csv(f'{root_dir + names[1]}/ci_PM1.csv')\n",
    "\n",
    "for dropout in dropouts:\n",
    "    if ax is None:\n",
    "        ax = pm1_ci[pm1_ci[\"dropout\"] == np.round(dropout, 3)].plot(\n",
    "            x=\"ci\", y=\"score\", figsize=(10, 10)\n",
    "        )\n",
    "    else:\n",
    "        ax = pm1_ci[pm1_ci[\"dropout\"] == np.round(dropout, 3)].plot(\n",
    "            x=\"ci\", y=\"score\", ax=ax\n",
    "        )\n",
    "\n",
    "legned_label = [f\"dropout={x:.2f}\" for x in dropouts]\n",
    "ax.legend(legned_label)"
   ]
  },
  {
   "cell_type": "code",
   "execution_count": null,
   "id": "8cfd9dc9",
   "metadata": {},
   "outputs": [],
   "source": [
    "ax = None\n",
    "pm25_ci = pd.read_csv(f'{root_dir + names[1]}/ci_PM2.5.csv')\n",
    "\n",
    "for dropout in dropouts:\n",
    "    if ax is None:\n",
    "        ax = pm25_ci[pm25_ci[\"dropout\"] == np.round(dropout, 3)].plot(\n",
    "            x=\"ci\", y=\"score\", figsize=(10, 10)\n",
    "        )\n",
    "    else:\n",
    "        ax = pm25_ci[pm25_ci[\"dropout\"] == np.round(dropout, 3)].plot(\n",
    "            x=\"ci\", y=\"score\", ax=ax\n",
    "        )\n",
    "\n",
    "legned_label = [f\"dropout={x:.2f}\" for x in dropouts]\n",
    "ax.legend(legned_label)"
   ]
  },
  {
   "cell_type": "code",
   "execution_count": null,
   "id": "a2d8961a",
   "metadata": {},
   "outputs": [],
   "source": [
    "ax = None\n",
    "pm10_ci = pd.read_csv(f'{root_dir + names[1]}/ci_PM10.csv')\n",
    "\n",
    "for dropout in dropouts:\n",
    "    if ax is None:\n",
    "        ax = pm10_ci[pm10_ci[\"dropout\"] == np.round(dropout, 3)].plot(\n",
    "            x=\"ci\", y=\"score\", figsize=(10, 10)\n",
    "        )\n",
    "    else:\n",
    "        ax = pm10_ci[pm10_ci[\"dropout\"] == np.round(dropout, 3)].plot(\n",
    "            x=\"ci\", y=\"score\", ax=ax\n",
    "        )\n",
    "\n",
    "legned_label = [f\"dropout={x:.2f}\" for x in dropouts]\n",
    "ax.legend(legned_label)"
   ]
  },
  {
   "cell_type": "code",
   "execution_count": null,
   "id": "1979d98e",
   "metadata": {},
   "outputs": [],
   "source": []
  }
 ],
 "metadata": {
  "kernelspec": {
   "display_name": "Python 3.9.0 ('jiheo')",
   "language": "python",
   "name": "python3"
  },
  "language_info": {
   "codemirror_mode": {
    "name": "ipython",
    "version": 3
   },
   "file_extension": ".py",
   "mimetype": "text/x-python",
   "name": "python",
   "nbconvert_exporter": "python",
   "pygments_lexer": "ipython3",
   "version": "3.9.0"
  },
  "vscode": {
   "interpreter": {
    "hash": "4088fd0d3796640b1c65f1ddd822ba54c2009473962059d86be4eae2585c4d91"
   }
  }
 },
 "nbformat": 4,
 "nbformat_minor": 5
}
