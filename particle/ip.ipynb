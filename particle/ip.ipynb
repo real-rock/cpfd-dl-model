{
 "cells": [
  {
   "cell_type": "code",
   "execution_count": null,
   "metadata": {},
   "outputs": [],
   "source": [
    "import pandas as pd\n",
    "from plotly import graph_objects as go\n",
    "from plotly.subplots import make_subplots"
   ]
  },
  {
   "cell_type": "code",
   "execution_count": null,
   "metadata": {},
   "outputs": [],
   "source": [
    "ip_df = pd.read_csv(\"http://api.khu-cpfd.com:9019/v1/logs/file/indoor-property\")"
   ]
  },
  {
   "cell_type": "code",
   "execution_count": null,
   "metadata": {},
   "outputs": [],
   "source": [
    "ip_df.index = ip_df.pop(\"DATE\").apply(pd.to_datetime).dt.floor(\"T\")\n",
    "ip_df.drop(columns=[\"MACHINE\"], inplace=True)"
   ]
  },
  {
   "cell_type": "code",
   "execution_count": null,
   "metadata": {},
   "outputs": [],
   "source": [
    "temp_df = ip_df[ip_df[\"TYPE\"] == \"temperature\"].copy().groupby(\"DATE\").mean()\n",
    "humidity_df = ip_df[ip_df[\"TYPE\"] == \"humidity\"].copy()\n",
    "co2_df = ip_df[ip_df[\"TYPE\"] == \"co2\"].copy()"
   ]
  },
  {
   "cell_type": "code",
   "execution_count": null,
   "metadata": {},
   "outputs": [],
   "source": [
    "humidity_df.drop(columns=[\"TYPE\"], inplace=True)\n",
    "co2_df.drop(columns=[\"TYPE\"], inplace=True)"
   ]
  },
  {
   "cell_type": "code",
   "execution_count": null,
   "metadata": {},
   "outputs": [],
   "source": [
    "temp_df.columns = [\"TEMPERATURE\"]\n",
    "humidity_df.columns = [\"HUMIDITY\"]\n",
    "co2_df.columns = [\"CO2\"]"
   ]
  },
  {
   "cell_type": "code",
   "execution_count": null,
   "metadata": {},
   "outputs": [],
   "source": [
    "co2_df = co2_df.groupby(\"DATE\").mean()"
   ]
  },
  {
   "cell_type": "code",
   "execution_count": null,
   "metadata": {},
   "outputs": [],
   "source": [
    "df = pd.concat([temp_df, humidity_df, co2_df], axis=1).dropna()"
   ]
  },
  {
   "cell_type": "code",
   "execution_count": null,
   "metadata": {},
   "outputs": [],
   "source": [
    "def plot(_df, _cols):\n",
    "    _fig = make_subplots(specs=[[{\"secondary_y\": True}]])\n",
    "    for _col in _cols:\n",
    "        _fig.add_trace(\n",
    "            go.Scatter(x=_df.index, y=_df[_col].values, name=_col),\n",
    "            secondary_y=(_df[_col].mean() < 100),\n",
    "        )\n",
    "    _fig.update_traces(connectgaps=False)\n",
    "    _fig.show()"
   ]
  },
  {
   "cell_type": "code",
   "execution_count": null,
   "metadata": {},
   "outputs": [],
   "source": [
    "plot(df, [\"TEMPERATURE\", \"CO2\", \"HUMIDITY\"])"
   ]
  },
  {
   "cell_type": "code",
   "execution_count": null,
   "metadata": {},
   "outputs": [],
   "source": [
    "df.describe()"
   ]
  },
  {
   "cell_type": "code",
   "execution_count": null,
   "metadata": {},
   "outputs": [],
   "source": [
    "wea_df = pd.read_csv('../storage/particle/weather.csv', index_col='DATE', parse_dates=True)"
   ]
  },
  {
   "cell_type": "code",
   "execution_count": null,
   "metadata": {},
   "outputs": [],
   "source": [
    "plot(wea_df, ['HUMIDITY'])"
   ]
  },
  {
   "cell_type": "code",
   "execution_count": null,
   "metadata": {},
   "outputs": [],
   "source": [
    "wea_df"
   ]
  },
  {
   "cell_type": "code",
   "execution_count": null,
   "metadata": {},
   "outputs": [],
   "source": []
  }
 ],
 "metadata": {
  "kernelspec": {
   "display_name": "Python 3 (ipykernel)",
   "language": "python",
   "name": "python3"
  },
  "language_info": {
   "codemirror_mode": {
    "name": "ipython",
    "version": 3
   },
   "file_extension": ".py",
   "mimetype": "text/x-python",
   "name": "python",
   "nbconvert_exporter": "python",
   "pygments_lexer": "ipython3",
   "version": "3.9.0"
  }
 },
 "nbformat": 4,
 "nbformat_minor": 4
}
