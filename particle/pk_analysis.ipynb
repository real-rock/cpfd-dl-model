{
 "cells": [
  {
   "cell_type": "code",
   "execution_count": null,
   "id": "09fb0672-15fb-4286-b4df-08cdfc6ce60c",
   "metadata": {},
   "outputs": [],
   "source": [
    "import matplotlib as mpl\n",
    "import sys\n",
    "import json\n",
    "\n",
    "import pandas as pd\n",
    "import numpy as np\n",
    "from matplotlib import pyplot as plt\n",
    "\n",
    "import tensorflow as tf\n",
    "\n",
    "sys.path.append('../../codes/scripts/particles/')\n",
    "\n",
    "mpl.rcParams['figure.dpi'] = 200\n"
   ]
  },
  {
   "cell_type": "code",
   "execution_count": null,
   "id": "2bc20961",
   "metadata": {},
   "outputs": [],
   "source": [
    "import data_handler as dh\n",
    "import metrics\n",
    "import utils\n"
   ]
  },
  {
   "cell_type": "code",
   "execution_count": null,
   "id": "60325448-b921-4a0c-a9ae-e8d1d043cc11",
   "metadata": {},
   "outputs": [],
   "source": [
    "pms = ['pm1', 'pm2.5', 'pm10']\n",
    "delta_mean = [-15, -10, -5, 5, 10, 15]\n",
    "cols = []\n",
    "for pm in pms:\n",
    "    for dm in delta_mean:\n",
    "        cols.append(f'{pm}_{dm:02d}')"
   ]
  },
  {
   "cell_type": "code",
   "execution_count": null,
   "id": "0050b2e0-9afd-40c0-9d97-7936871c9b65",
   "metadata": {},
   "outputs": [],
   "source": [
    "p_data = []\n",
    "k_data = []\n",
    "\n",
    "for pm in pms:\n",
    "    for dm in delta_mean:\n",
    "        data = np.load(f'../../projects/particle/pk/{pm}_{dm:02d}_pk_res.npy')\n",
    "        p_data.append(data[:, 0].reshape(-1, 1))\n",
    "        k_data.append(data[:, 1].reshape(-1, 1))"
   ]
  },
  {
   "cell_type": "code",
   "execution_count": null,
   "id": "23cc958b-fb54-4b22-bb1f-c8c57d6fb493",
   "metadata": {},
   "outputs": [],
   "source": [
    "p_df = pd.DataFrame(np.concatenate(p_data, axis=1), columns=cols)\n",
    "k_df = pd.DataFrame(np.concatenate(k_data, axis=1), columns=cols)"
   ]
  },
  {
   "cell_type": "code",
   "execution_count": null,
   "id": "84aa1638-a3f1-43cc-941d-7a187437ba38",
   "metadata": {},
   "outputs": [],
   "source": [
    "fig, axes = plt.subplots(3, figsize=(22, 16), sharex=True)\n",
    "p_df.iloc[:, :6].plot(kind=\"hist\", bins=100, ax=axes[0])\n",
    "p_df.iloc[:, 6:12].plot(kind=\"hist\", bins=100, ax=axes[1])\n",
    "p_df.iloc[:, 12:18].plot(kind=\"hist\", bins=100, ax=axes[2])\n",
    "axes[0].set_title('PM1', fontsize=17)\n",
    "axes[1].set_title('PM2.5', fontsize=17)\n",
    "axes[2].set_title('PM10', fontsize=17)\n",
    "axes[0].axvline(0.215055687, linestyle='--', color='b')\n",
    "axes[1].axvline(0.201964166, linestyle='--', color='b')\n",
    "axes[2].axvline(0.182238429, linestyle='--', color='b')\n",
    "axes[2].set_xlabel(\"\"\"$p'$\"\"\", fontsize=17)\n",
    "fig.suptitle(\"\"\"$p'$ for each PM and $\\Delta PM\\_out$\"\"\", fontsize=24)\n"
   ]
  },
  {
   "cell_type": "code",
   "execution_count": null,
   "id": "aeec5463-3016-4f15-a684-19004e5a4fd7",
   "metadata": {},
   "outputs": [],
   "source": [
    "fig, axes = plt.subplots(3, figsize=(22, 16), sharex=True)\n",
    "\n",
    "k_df.iloc[:, :6].plot(kind=\"hist\", bins=100, ax=axes[0])\n",
    "k_df.iloc[:, 6:12].plot(kind=\"hist\", bins=100, ax=axes[1])\n",
    "k_df.iloc[:, 12:18].plot(kind=\"hist\", bins=100, ax=axes[2])\n",
    "axes[0].set_title('PM1', fontsize=17)\n",
    "axes[1].set_title('PM2.5', fontsize=17)\n",
    "axes[2].set_title('PM10', fontsize=17)\n",
    "axes[0].axvline(0.01387988, linestyle='--', color='b')\n",
    "axes[1].axvline(0.014322877, linestyle='--', color='b')\n",
    "axes[2].axvline(0.014886466, linestyle='--', color='b')\n",
    "axes[2].set_xlabel(\"\"\"$k'$\"\"\", fontsize=17)\n",
    "fig.suptitle('''$k'$ for each PM and $\\Delta PM\\_out$''', fontsize=24)\n"
   ]
  },
  {
   "cell_type": "markdown",
   "id": "896dda4f-50a7-4fe0-b7cd-9acfa38ef65a",
   "metadata": {},
   "source": [
    "## 신뢰구간 검증"
   ]
  },
  {
   "cell_type": "code",
   "execution_count": null,
   "id": "0afc490a-a564-4afa-b5a2-df6b6340fcd7",
   "metadata": {},
   "outputs": [],
   "source": [
    "usable_dates = [\n",
    "    {\"start\": \"2022-05-07 09:40\", \"end\": \"2022-05-17 08:38\"},\n",
    "    {\"start\": \"2022-05-17 11:25\", \"end\": \"2022-05-30 23:26\"},\n",
    "    {\"start\": \"2022-06-01 22:40\", \"end\": \"2022-07-02 07:00\"},\n",
    "    {\"start\": \"2022-07-02 16:40\", \"end\": \"2022-07-09 07:13\"},\n",
    "    {\"start\": \"2022-07-09 14:30\", \"end\": \"2022-07-12 10:00\"},\n",
    "    {\"start\": \"2022-07-25 12:00\", \"end\": \"2022-08-01 10:00\"},\n",
    "    {\"start\": \"2022-08-03 09:00\", \"end\": \"2022-08-11 22:18\"},\n",
    "    {\"start\": \"2022-08-12 12:14\", \"end\": \"2022-08-20 00:00\"},\n",
    "    {\"start\": \"2022-08-20 09:38\", \"end\": \"2022-09-01 00:00\"}\n",
    "]\n",
    "outputs = ['PM1', 'PM2.5', 'PM10']\n",
    "inputs = [\n",
    "    'PM1_2.5_OUT',\n",
    "    'PM1_2.5_H_OUT',\n",
    "    'PM2.5_OUT',\n",
    "    'PM2.5_H_OUT',\n",
    "    'PM2.5_10_OUT',\n",
    "    'PM2.5_10_H_OUT',\n",
    "    'PERSON_NUMBER',\n",
    "    'AIR_PURIFIER',\n",
    "    'WINDOW',\n",
    "    'AIR_CONDITIONER',\n",
    "    'DOOR',\n",
    "    'TEMPERATURE',\n",
    "    'WIND_SPEED',\n",
    "    'WIND_DEG',\n",
    "    'HUMIDITY'\n",
    "]\n"
   ]
  },
  {
   "cell_type": "code",
   "execution_count": null,
   "id": "fd96d4b0-76d9-47a7-baf0-7d053fef0808",
   "metadata": {},
   "outputs": [],
   "source": [
    "train_dfs, val_dfs, test_dfs = dh.get_datasets(\n",
    "    inputs,\n",
    "    outputs,\n",
    "    usable_dates,\n",
    "    0.1,\n",
    "    0.25,\n",
    "    window=20,\n",
    "    method='mean'\n",
    ")\n",
    "\n",
    "df = pd.concat(train_dfs)"
   ]
  },
  {
   "cell_type": "code",
   "execution_count": null,
   "id": "e63624e0-bb99-4ce7-bb5e-a76b28fbaa6e",
   "metadata": {},
   "outputs": [],
   "source": [
    "pm1_df = df[['PM1_2.5_OUT', 'PM1_2.5_H_OUT', 'PM1', 'WIND_DEG', 'WIND_SPEED', 'HUMIDITY', 'TEMPERATURE',]].copy()\n",
    "pm1_df = (pm1_df - pm1_df.mean()) / pm1_df.std()\n",
    "pm2_df = df[['PM2.5_OUT', 'PM2.5_H_OUT', 'PM2.5', 'WIND_DEG', 'WIND_SPEED', 'HUMIDITY', 'TEMPERATURE',]].copy()\n",
    "pm2_df = (pm2_df - pm2_df.mean()) / pm2_df.std()\n",
    "pm10_df = df[['PM2.5_10_OUT', 'PM2.5_10_H_OUT', 'PM10', 'WIND_DEG', 'WIND_SPEED', 'HUMIDITY', 'TEMPERATURE',]].copy()\n",
    "pm10_df = (pm10_df - pm10_df.mean()) / pm10_df.std()"
   ]
  },
  {
   "cell_type": "code",
   "execution_count": null,
   "id": "8956fefd-51e2-48c2-bba3-467ce1522109",
   "metadata": {},
   "outputs": [],
   "source": [
    "ax = pm1_df.cov().loc['PM1'].plot(kind='bar')\n",
    "pm2_df.cov().loc['PM2.5'].plot(kind='bar', ax=ax)\n",
    "pm10_df.cov().loc['PM10'].plot(kind='bar', ax=ax)"
   ]
  },
  {
   "cell_type": "code",
   "execution_count": null,
   "id": "b4d75555-34e5-4549-a263-d0cb69f51b02",
   "metadata": {},
   "outputs": [],
   "source": [
    "pm2_df.cov()"
   ]
  },
  {
   "cell_type": "code",
   "execution_count": null,
   "id": "605b93ee-60e3-4270-99ea-18c935206961",
   "metadata": {},
   "outputs": [],
   "source": [
    "pm10_df.cov()"
   ]
  },
  {
   "cell_type": "code",
   "execution_count": null,
   "id": "f9bb1d5f-e2c3-4462-bae0-e1feef7d7ebd",
   "metadata": {},
   "outputs": [],
   "source": []
  }
 ],
 "metadata": {
  "kernelspec": {
   "display_name": "Python 3.9.0 ('jiheo')",
   "language": "python",
   "name": "python3"
  },
  "language_info": {
   "codemirror_mode": {
    "name": "ipython",
    "version": 3
   },
   "file_extension": ".py",
   "mimetype": "text/x-python",
   "name": "python",
   "nbconvert_exporter": "python",
   "pygments_lexer": "ipython3",
   "version": "3.9.0"
  },
  "vscode": {
   "interpreter": {
    "hash": "4088fd0d3796640b1c65f1ddd822ba54c2009473962059d86be4eae2585c4d91"
   }
  }
 },
 "nbformat": 4,
 "nbformat_minor": 5
}
