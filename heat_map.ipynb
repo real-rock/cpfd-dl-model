{
 "cells": [
  {
   "cell_type": "code",
   "execution_count": null,
   "id": "4c163cd5-1806-4d94-b49b-1c34e324b170",
   "metadata": {},
   "outputs": [],
   "source": [
    "import pandas as pd\n",
    "import numpy as np\n",
    "\n",
    "def drop_dup(_df):\n",
    "    dup_index = _df[_df.index.duplicated()].index\n",
    "    return _df.drop(dup_index)['PM2.5']\n",
    "\n",
    "df_org = pd.read_csv(\n",
    "    'http://api.khu-cpfd.com:9019/v1/logs/file/particle?method=mean&machine=120,134,107,199,121,124',\n",
    "    index_col='DATE',\n",
    "    parse_dates=True\n",
    ")\n",
    "df_org.index = df_org.index.floor('T')\n",
    "\n",
    "df_107 = df_org[df_org['MACHINE'] == 107]\n",
    "df_107 = drop_dup(df_107)\n",
    "\n",
    "df_120 = df_org[df_org['MACHINE'] == 120]\n",
    "df_120 = drop_dup(df_120)\n",
    "\n",
    "df_121 = df_org[df_org['MACHINE'] == 121]\n",
    "df_121 = drop_dup(df_121)\n",
    "\n",
    "df_124 = df_org[df_org['MACHINE'] == 124]\n",
    "df_124 = drop_dup(df_124)\n",
    "\n",
    "df_134 = df_org[df_org['MACHINE'] == 134]\n",
    "df_134 = drop_dup(df_134)\n",
    "\n",
    "df_199 = df_org[df_org['MACHINE'] == 199]\n",
    "df_199 = drop_dup(df_199)\n",
    "\n",
    "df = pd.concat([df_107, df_120, df_121, df_124, df_134, df_199], axis=1).fillna(0)\n",
    "df.columns = ['m107', 'm120', 'm121', 'm124', 'm134', 'm199']"
   ]
  },
  {
   "cell_type": "code",
   "execution_count": null,
   "id": "f37d034f-233e-485c-973e-6dc48d807a1d",
   "metadata": {},
   "outputs": [],
   "source": [
    "machine_indices = [[134, 199, 121], [120, 107, 124]]\n",
    "\n",
    "trimed_df = df[(df.index > pd.to_datetime('2022-06-24 22:00')) & (df.index < pd.to_datetime('2022-06-25 10:00'))]\n",
    "\n",
    "data = np.zeros((len(trimed_df), 2, 3))\n",
    "for r in range(2):\n",
    "    for c in range(3):\n",
    "        m = f'm{machine_indices[r][c]}'\n",
    "        data[:, r, c] = trimed_df[m].values"
   ]
  },
  {
   "cell_type": "code",
   "execution_count": null,
   "id": "da65863a-e031-4051-b8e1-565b42abfd25",
   "metadata": {},
   "outputs": [],
   "source": [
    "%matplotlib inline\n",
    "\n",
    "import numpy as np\n",
    "import matplotlib.pyplot as plt\n",
    "\n",
    "from matplotlib import animation, rc\n",
    "\n",
    "plt.rcParams[\"figure.autolayout\"] = True\n",
    "plt.rcParams[\"animation.html\"] = \"jshtml\"\n",
    "\n",
    "vmin = data.max()\n",
    "vmax = data.min()\n",
    "fig, ax = plt.subplots(figsize=(14, 6))\n",
    "\n",
    "dimension = (2, 3)\n",
    "cmap = plt.get_cmap('binary')\n",
    "plot = plt.matshow(data[0], cmap=cmap, fignum=0)\n",
    "plt.colorbar()\n",
    "plt.clim(vmin, vmax)\n",
    "\n",
    "def animate(i):\n",
    "    plot.set_data(data[i])\n",
    "    return plot\n",
    "\n",
    "anim = animation.FuncAnimation(fig, animate, interval=300, frames=len(data), repeat=False)"
   ]
  }
 ],
 "metadata": {
  "kernelspec": {
   "display_name": "Python 3 (ipykernel)",
   "language": "python",
   "name": "python3"
  },
  "language_info": {
   "codemirror_mode": {
    "name": "ipython",
    "version": 3
   },
   "file_extension": ".py",
   "mimetype": "text/x-python",
   "name": "python",
   "nbconvert_exporter": "python",
   "pygments_lexer": "ipython3",
   "version": "3.9.0"
  }
 },
 "nbformat": 4,
 "nbformat_minor": 5
}
