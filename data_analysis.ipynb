{
 "cells": [
  {
   "cell_type": "code",
   "execution_count": null,
   "id": "37e1df1c-d24a-43a5-9f38-474683be8929",
   "metadata": {},
   "outputs": [],
   "source": [
    "import sys\n",
    "\n",
    "import numpy as np\n",
    "import pandas as pd\n",
    "import json\n",
    "\n",
    "sys.path.append(\"../scripts/\")"
   ]
  },
  {
   "cell_type": "code",
   "execution_count": null,
   "id": "226a75da-78dd-481e-8f99-171bcf3c315d",
   "metadata": {},
   "outputs": [],
   "source": [
    "from particle_da import *\n",
    "from particle_utils import *"
   ]
  },
  {
   "cell_type": "code",
   "execution_count": null,
   "id": "5e2e0c9c-d75d-4e50-a9d9-59d498c29dbe",
   "metadata": {},
   "outputs": [],
   "source": [
    "TARGET_LABEL = [\"PM1\", \"PM2.5\", \"PM10\"]\n",
    "FEATURE_LABEL = [\n",
    "    \"PM1_2.5_OUT\",\n",
    "    \"PM1_2.5_H_OUT\",\n",
    "    \"PM2.5_OUT\",\n",
    "    \"PM2.5_H_OUT\",\n",
    "    \"PM2.5_10_OUT\",\n",
    "    \"PM2.5_10_H_OUT\",\n",
    "    \"PERSON_NUMBER\",\n",
    "    \"AIR_PURIFIER\",\n",
    "    \"WINDOW\",\n",
    "    \"AIR_CONDITIONER\",\n",
    "    \"DOOR\",\n",
    "]\n",
    "\n",
    "VIEW_TARGET = [\n",
    "    \"PM1\",\n",
    "    \"PM1_OUT\",\n",
    "    \"PM1_H_OUT\",\n",
    "    \"PM2.5\",\n",
    "    \"PM2.5_OUT\",\n",
    "    \"PM2.5_H_OUT\",\n",
    "    \"PM10\",\n",
    "    \"PM10_OUT\",\n",
    "    \"PM10_H_OUT\",\n",
    "    \"PM1_2.5_OUT\",\n",
    "    \"PM1_2.5_H_OUT\",\n",
    "    \"PM2.5_10_OUT\",\n",
    "    \"PM2.5_10_H_OUT\",\n",
    "]\n",
    "\n",
    "WINDOW_SIZE = 30\n",
    "OFFSET = 0\n",
    "OUTPUT_SIZE = 1\n",
    "BATCH_SIZE = 64\n",
    "\n",
    "config_file = 'project/GRU/GRUkt01/config.json'\n",
    "f = open(config_file, 'r')\n",
    "config = json.load(f)\n",
    "f.close()\n",
    "\n",
    "used_data = config['model']['data']['used_data']\n",
    "meta = config['model']['data']['meta']"
   ]
  },
  {
   "cell_type": "code",
   "execution_count": null,
   "id": "feeed941-3837-4404-9e0b-8bb0acd9deb0",
   "metadata": {},
   "outputs": [],
   "source": [
    "df = pd.read_csv(config['root_dir']+'/'+config['name']+config['version']+'/'+config['dirs']['predict']+'/predict.csv',\n",
    "                 index_col='DATE',\n",
    "                 parse_dates=True\n",
    "                )"
   ]
  },
  {
   "cell_type": "code",
   "execution_count": null,
   "id": "38b3de29-e449-4de5-a58d-1b0f05fe9615",
   "metadata": {},
   "outputs": [],
   "source": [
    "train_df = df[df[\"TYPE\"] == \"train\"]\n",
    "val_df = df[df[\"TYPE\"] == \"val\"]\n",
    "test_df = df[df[\"TYPE\"] == \"test\"]"
   ]
  },
  {
   "cell_type": "code",
   "execution_count": null,
   "id": "264b7116-e714-44ed-862a-c3f676a7f4f6",
   "metadata": {},
   "outputs": [],
   "source": [
    "plot(test_df, ['PM2.5', 'PM2.5_PRED'])"
   ]
  },
  {
   "cell_type": "code",
   "execution_count": null,
   "id": "e7b3fa13-448d-43f5-b323-3a1ed40f4e52",
   "metadata": {},
   "outputs": [],
   "source": [
    "# import matplotlib.patches as mpatches\n",
    "\n",
    "# df_tmp = df[event_cond]\n",
    "\n",
    "\n",
    "# def add_label(violin, label):\n",
    "\n",
    "#     color = violin[\"bodies\"][0].get_facecolor().flatten()\n",
    "\n",
    "#     return (mpatches.Patch(color=color), label)\n",
    "\n",
    "\n",
    "# fig, axes = plt.subplots()\n",
    "# labels = []\n",
    "\n",
    "# train_df = df_tmp[df_tmp[\"TYPE\"] == \"train\"]\n",
    "# val_df = df_tmp[df_tmp[\"TYPE\"] == \"val\"]\n",
    "# test_df = df_tmp[df_tmp[\"TYPE\"] == \"test\"]\n",
    "# labels.append(add_label(axes.violinplot(train_df[VIEW_TARGET]), \"train\"))\n",
    "# labels.append(add_label(axes.violinplot(test_df[VIEW_TARGET]), \"val\"))\n",
    "# labels.append(add_label(axes.violinplot(val_df[VIEW_TARGET]), \"test\"))\n",
    "# plt.legend(*zip(*labels), loc=2)"
   ]
  },
  {
   "cell_type": "code",
   "execution_count": null,
   "id": "9fe06e27-9585-40bb-8f5a-32fca68bac60",
   "metadata": {},
   "outputs": [],
   "source": [
    "data_ratio_df = get_data_ratio([train_df, val_df, test_df])\n",
    "data_ratio_df = add_corr(data_ratio_df, [train_df, val_df, test_df], 'PM2.5')"
   ]
  },
  {
   "cell_type": "code",
   "execution_count": null,
   "id": "379f2a76-8489-4021-8140-473777cf3a95",
   "metadata": {},
   "outputs": [],
   "source": [
    "data_ratio_df"
   ]
  },
  {
   "cell_type": "code",
   "execution_count": null,
   "id": "196646cf-9713-42ad-a207-2e1d85ecfe98",
   "metadata": {},
   "outputs": [],
   "source": [
    "data_ratio_df[['Total', 'Train', 'Val', 'Test']].iloc[:10].plot(kind='pie', subplots=True, figsize=(40, 20))"
   ]
  },
  {
   "cell_type": "code",
   "execution_count": null,
   "id": "e7fa3401-eee5-4834-82e2-14e39448f281",
   "metadata": {},
   "outputs": [],
   "source": [
    "plot(df[get_cond(df, \"01010\")], ['PM2.5', 'PM1_2.5', 'PM1_2.5_OUT', 'PM1_2.5_H_OUT', 'PM2.5_10_OUT', 'PM2.5_10_H_OUT', 'PM2.5_PRED'])"
   ]
  },
  {
   "cell_type": "code",
   "execution_count": null,
   "id": "de36d44f-403c-427b-b01b-66227fcb3bef",
   "metadata": {},
   "outputs": [],
   "source": [
    "import matplotlib.pyplot as plt\n",
    "\n",
    "target_cols = [\n",
    "    [\"PM1\", \"PM2.5\", \"PM10\"],\n",
    "    [\"PM1_OUT\", \"PM2.5_OUT\", \"PM10_OUT\"],\n",
    "    [\"PM1_H_OUT\", \"PM2.5_H_OUT\", \"PM10_H_OUT\"],\n",
    "]\n",
    "\n",
    "for row in range(3):\n",
    "    fig, axes = plt.subplots(ncols=3, sharey=True, figsize=(40, 10))\n",
    "    for col in range(3):\n",
    "        target_df = df[get_cond(df, \"10000\")][target_cols[row][col]]\n",
    "        ax = target_df.plot(\n",
    "            kind=\"hist\",\n",
    "            bins=100,\n",
    "            # density=1,\n",
    "            title=f\"{target_cols[row][col]}\",\n",
    "            ax=axes[col],\n",
    "            fontsize=17,\n",
    "        )\n",
    "        ax.title.set_size(20)\n",
    "        ax.set_xlabel(\"PM\", fontsize=18)\n",
    "        ax.set_ylabel(\"Frequency\", fontsize=18)"
   ]
  },
  {
   "cell_type": "code",
   "execution_count": null,
   "id": "bd0a6369-a23e-4ff6-a37e-b77cd86aaf5a",
   "metadata": {},
   "outputs": [],
   "source": [
    "def sampling(_df, _targets, sample_size, num_iter):\n",
    "    sample_means = np.zeros((num_iter, len(_targets)))\n",
    "    for i in range(num_iter):\n",
    "        for j, _target in enumerate(_targets):\n",
    "            sample_means[i, j] = _df[_target].sample(sample_size, replace=True).mean()\n",
    "    return sample_means"
   ]
  },
  {
   "cell_type": "code",
   "execution_count": null,
   "id": "d414b281-3f7e-4baa-9eea-a1ce4216339d",
   "metadata": {},
   "outputs": [],
   "source": [
    "person_smp = sampling(df[get_cond(df, \"10000\")], ['PM2.5', 'PM2.5_OUT', 'PM2.5_H_OUT'], 1000, 100000)\n",
    "no_person_smp = sampling(df[get_cond(df, \"00000\")], ['PM2.5', 'PM2.5_OUT', 'PM2.5_H_OUT'], 1000, 100000)\n",
    "\n",
    "# person_smp = pd.read_csv('../data/person_sample.csv')\n",
    "# no_person_smp = pd.read_csv('../data/no_person_sample.csv')"
   ]
  },
  {
   "cell_type": "code",
   "execution_count": null,
   "id": "57fc19cd-0e8a-439f-842c-ec4debd6876d",
   "metadata": {},
   "outputs": [],
   "source": [
    "person_smp_1 = sampling(df[get_cond(df, \"10000\")], ['PM1', 'PM1_OUT', 'PM1_H_OUT'], 1000, 100000)\n",
    "no_person_smp_1 = sampling(df[get_cond(df, \"00000\")], ['PM1', 'PM1_OUT', 'PM1_H_OUT'], 1000, 100000)"
   ]
  },
  {
   "cell_type": "code",
   "execution_count": null,
   "id": "f2370074-c7e1-44d8-9386-bfc9c60fc609",
   "metadata": {},
   "outputs": [],
   "source": [
    "plot_sample(person_smp_1, no_person_smp_1, 0.95, pm1_labels, ['people in', 'no person'], 'CASE 00000 vs 10000 with 0.95 CI')"
   ]
  },
  {
   "cell_type": "code",
   "execution_count": null,
   "id": "c2915e30-d662-475f-abab-a38887cbdad3",
   "metadata": {},
   "outputs": [],
   "source": [
    "ap_person_on_smp = sampling(df[get_cond(df, \"11000\")], ['PM2.5', 'PM2.5_OUT', 'PM2.5_H_OUT'], 1000, 100000)\n",
    "ap_person_off_smp = np.copy(ac_person_off_smp)"
   ]
  },
  {
   "cell_type": "code",
   "execution_count": null,
   "id": "cf597cef-a5cb-40d5-a74f-f6c8958fe01e",
   "metadata": {},
   "outputs": [],
   "source": [
    "ap_on_smp = sampling(df[get_cond(df, \"01000\")], ['PM2.5', 'PM2.5_OUT', 'PM2.5_H_OUT'], 1000, 100000)\n",
    "ap_off_smp = np.copy(no_person_smp)\n",
    "ap_person_on_smp = sampling(df[get_cond(df, \"11000\")], ['PM2.5', 'PM2.5_OUT', 'PM2.5_H_OUT'], 1000, 100000)\n",
    "ap_person_off_smp = np.copy(ac_person_off_smp)\n",
    "\n",
    "# ap_on_smp = pd.read_csv('../data/ap_on_sample.csv')\n",
    "# ap_off_smp = pd.read_csv('../data/person_sample.csv')"
   ]
  },
  {
   "cell_type": "code",
   "execution_count": null,
   "id": "91b8efcc-b3e7-445b-a1c6-408a85e105fd",
   "metadata": {},
   "outputs": [],
   "source": [
    "ac_person_on_smp = sampling(df[get_cond(df, \"10100\")], ['PM2.5', 'PM2.5_OUT', 'PM2.5_H_OUT'], 1000, 100000)\n",
    "ac_person_off_smp = np.copy(person_smp)\n",
    "ac_no_p_on_smp = sampling(df[get_cond(df, \"00100\")], ['PM2.5', 'PM2.5_OUT', 'PM2.5_H_OUT'], 1000, 100000)\n",
    "ac_no_p_off_smp = np.copy(no_person_smp)\n",
    "\n",
    "# ac_person_on_smp = pd.read_csv('../data/ac_on_person_sample.csv')\n",
    "# ac_person_off_smp = pd.read_csv('../data/ac_off_person_sample.csv')\n",
    "\n",
    "# ac_no_p_smp = pd.read_csv('../data/ac_on_noperson_sample.csv')\n",
    "# ac_no_p_off_smp = pd.read_csv('../data/ac_off_noperson_sample.csv')"
   ]
  },
  {
   "cell_type": "code",
   "execution_count": null,
   "id": "1eb03649-d83b-4260-a5ba-e946558af6d4",
   "metadata": {},
   "outputs": [],
   "source": [
    "wd_person_open_smp = sampling(df[get_cond(df, \"10010\")], ['PM2.5', 'PM2.5_OUT', 'PM2.5_H_OUT'], 1000, 100000)\n",
    "wd_person_closed_smp = np.copy(person_smp)\n",
    "wd_no_p_open_smp = sampling(df[get_cond(df, \"00010\")], ['PM2.5', 'PM2.5_OUT', 'PM2.5_H_OUT'], 1000, 100000)\n",
    "wd_no_p_closed_smp = np.copy(no_person_smp)\n",
    "\n",
    "# wd_person_open_smp = pd.read_csv('../data/wd_open_person_sample.csv')\n",
    "# wd_person_closed_smp = pd.read_csv('../data/wd_closed_person_sample.csv')\n",
    "\n",
    "# wd_no_p_open_smp = pd.read_csv('../data/wd_open_noperson_sample.csv')\n",
    "# wd_no_p_closed_smp = pd.read_csv('../data/wd_closed_noperson_sample.csv')"
   ]
  },
  {
   "cell_type": "code",
   "execution_count": null,
   "id": "3a6b84fa-a013-41fe-8a02-20f46050f2f3",
   "metadata": {},
   "outputs": [],
   "source": [
    "# dr_open_smp = sampling(df[get_cond(df, \"xxxx1\")], ['PM2.5', 'PM2.5_OUT', 'PM2.5_H_OUT'], 1000, 100000)\n",
    "# dr_closed_smp = sampling(df[get_cond(df, \"xxxx0\")], ['PM2.5', 'PM2.5_OUT', 'PM2.5_H_OUT'], 1000, 100000)\n",
    "\n",
    "dr_open_smp = pd.read_csv('../data/person_sample.csv')\n",
    "dr_closed_smp = pd.read_csv('../data/person_sample.csv')"
   ]
  },
  {
   "cell_type": "code",
   "execution_count": null,
   "id": "a8f2d851-026d-4830-8d68-ff2afc998923",
   "metadata": {},
   "outputs": [],
   "source": [
    "pd.DataFrame(wd_open_smp, columns=['PM2.5', 'PM2.5_OUT', 'PM2.5_H_OUT']).to_csv('../data/wd_open_person_sample.csv', index=False)"
   ]
  },
  {
   "cell_type": "code",
   "execution_count": null,
   "id": "3316839c-733a-4ec7-b1ad-fce299ae10d9",
   "metadata": {},
   "outputs": [],
   "source": [
    "import matplotlib.pyplot as plt\n",
    "import scipy.stats as st\n",
    "\n",
    "plt.rcParams['font.size'] = '17'\n",
    "pm1_labels = ['PM1', 'PM1_OUT', 'PM1_H_OUT']\n",
    "pm2_5_labels = ['PM2.5', 'PM2.5_OUT', 'PM2.5_H_OUT']\n",
    "pm10_labels = ['PM10', 'PM10_OUT', 'PM10_H_OUT']\n",
    "\n",
    "def get_ci(alpha, data):\n",
    "    ddof = len(data) - 1\n",
    "    return st.t.interval(alpha, ddof, loc=np.mean(data), scale=st.sem(data, ddof=ddof))\n",
    "\n",
    "def find_nearest_index(arr, value):\n",
    "    arr = np.asarray(arr)\n",
    "    idx = (np.abs(arr - value)).argmin()\n",
    "    return idx\n",
    "\n",
    "def get_near_indices(pool, values):\n",
    "    l = []\n",
    "    for v in values:\n",
    "        l.append(find_nearest_index(pool, v))\n",
    "    return l\n",
    "\n",
    "def moving_average(a, n=3):\n",
    "    ret = np.cumsum(a, dtype=float)\n",
    "    ret[n:] = ret[n:] - ret[:-n]\n",
    "    return ret[n - 1:] / n\n",
    "\n",
    "def plot_sample_in_ax(data, alpha, label, xlabel, ax):\n",
    "    ci = get_ci(alpha, data)\n",
    "    hist = ax.hist(data, bins=100, label=label, alpha=0.2)\n",
    "    idc = get_near_indices(hist[1], ci)\n",
    "    ax.fill_between(moving_average(hist[1][idc[0]:idc[1] + 2], n=2), hist[0][idc[0]:idc[1] + 1], alpha=0.6)\n",
    "    return ax\n",
    "\n",
    "def plot_sample(data_1, data_2, alpha, xlabels, labels, title):\n",
    "    fig, axes = plt.subplots(nrows=1, ncols=3, figsize=(30, 10))\n",
    "\n",
    "    for i in range(3):\n",
    "        ax = plot_sample_in_ax(data_1[:, i], alpha, labels[0], xlabels[i], axes[i])\n",
    "        ax = plot_sample_in_ax(data_2[:, i], alpha, labels[1], xlabels[i], ax)\n",
    "        axes[i].title.set_size(20)\n",
    "        axes[i].set_xlabel(xlabels[i], fontsize=18)\n",
    "        axes[i].set_ylabel(\"Frequency\", fontsize=18)\n",
    "        axes[i].legend()\n",
    "    fig.suptitle(title, fontsize=22)\n",
    "\n",
    "    print('=== MEAN ===')\n",
    "    for i in range(len(xlabels)):\n",
    "        print(f'{xlabels[i]}: {data_1[:, i].mean():.3f}, {data_2[:, i].mean():.3f}')\n",
    "    print('=== STD ===')\n",
    "    for i in range(len(xlabels)):\n",
    "        print(f'{xlabels[i]}: {data_1[:, i].std():.3f}, {data_2[:, i].std():.3f}')"
   ]
  },
  {
   "cell_type": "code",
   "execution_count": null,
   "id": "565d889d-f5b4-4c71-b687-0bf6a569533a",
   "metadata": {},
   "outputs": [],
   "source": [
    "plot_sample(person_smp, no_person_smp, 0.95, pm2_5_labels, ['people in', 'no person'], 'CASE 00000 vs 10000 with 0.95 CI')"
   ]
  },
  {
   "cell_type": "code",
   "execution_count": null,
   "id": "3bf9dc90-6df1-47a7-b0e0-1aa7e7d18a14",
   "metadata": {},
   "outputs": [],
   "source": [
    "plot_sample(ap_on_smp, ap_off_smp, 0.95, pm2_5_labels, ['ap on', 'ap off'], 'CASE 00000 vs 01000 with 0.95 CI')"
   ]
  },
  {
   "cell_type": "code",
   "execution_count": null,
   "id": "3d7863ea-97ab-4cf1-95ac-f9b7e874a5c9",
   "metadata": {},
   "outputs": [],
   "source": [
    "plot_sample(ap_person_on_smp, ap_person_off_smp, 0.95, pm2_5_labels, ['ap on', 'ap off'], 'CASE 10000 vs 11000 with 0.95 CI')"
   ]
  },
  {
   "cell_type": "code",
   "execution_count": null,
   "id": "97b42e1f-3857-4f28-aa9f-836bd4f05ba0",
   "metadata": {},
   "outputs": [],
   "source": [
    "plot_sample(ac_person_on_smp, ac_person_off_smp, 0.95, pm2_5_labels, ['ac on', 'ac off'], 'CASE 10000 vs 10100 with 0.95 CI')"
   ]
  },
  {
   "cell_type": "code",
   "execution_count": null,
   "id": "4e323279-e5c8-4b45-997d-6ff3280b2a0d",
   "metadata": {},
   "outputs": [],
   "source": [
    "plot_sample(ac_no_p_on_smp, ac_no_p_off_smp, 0.95, pm2_5_labels, ['ac on', 'ac off'], 'CASE 00000 vs 00100 with 0.95 CI')"
   ]
  },
  {
   "cell_type": "code",
   "execution_count": null,
   "id": "4c214d51-d821-49e7-a0d0-0f93ae4bde26",
   "metadata": {},
   "outputs": [],
   "source": [
    "plot_sample(wd_person_open_smp, wd_person_closed_smp, 0.95, pm2_5_labels, ['window open', 'window closed'], 'CASE 10000 vs 10010 with 0.95 CI')"
   ]
  },
  {
   "cell_type": "code",
   "execution_count": null,
   "id": "ebd4476e-9d61-4f6f-a29e-e8554d78acb8",
   "metadata": {},
   "outputs": [],
   "source": [
    "plot_sample(wd_no_p_open_smp, wd_no_p_closed_smp, 0.95, pm2_5_labels, ['window open', 'window closed'], 'CASE 00000 vs 00010 with 0.95 CI')"
   ]
  },
  {
   "cell_type": "code",
   "execution_count": null,
   "id": "9950a281-56b1-4186-bf41-493df339a627",
   "metadata": {},
   "outputs": [],
   "source": [
    "import matplotlib.pyplot as plt\n",
    "\n",
    "target_cols = [\n",
    "    [\"PM1\", \"PM2.5\", \"PM10\"],\n",
    "    [\"PM1_OUT\", \"PM2.5_OUT\", \"PM10_OUT\"],\n",
    "    [\"PM1_H_OUT\", \"PM2.5_H_OUT\", \"PM10_H_OUT\"],\n",
    "]\n",
    "\n",
    "for row in range(3):\n",
    "    fig, axes = plt.subplots(ncols=3, sharey=True, figsize=(40, 10))\n",
    "    for col in range(3):\n",
    "        target_df = df[get_cond(df, \"00000\")][target_cols[row][col]]\n",
    "        ax = target_df.plot(\n",
    "            kind=\"hist\",\n",
    "            bins=100,\n",
    "            # density=1,\n",
    "            title=f\"{target_cols[row][col]}\",\n",
    "            ax=axes[col],\n",
    "            fontsize=17,\n",
    "        )\n",
    "        ax.title.set_size(20)\n",
    "        ax.set_xlabel(\"PM\", fontsize=18)\n",
    "        ax.set_ylabel(\"Frequency\", fontsize=18)"
   ]
  },
  {
   "cell_type": "code",
   "execution_count": null,
   "id": "3d8ef69c-1a28-41bb-a5e8-4d2975fe4a0e",
   "metadata": {},
   "outputs": [],
   "source": [
    "import matplotlib.pyplot as plt\n",
    "\n",
    "target_cols = [\n",
    "    [\"PM1\", \"PM2.5\", \"PM10\"],\n",
    "    [\"PM1_OUT\", \"PM2.5_OUT\", \"PM10_OUT\"],\n",
    "    [\"PM1_H_OUT\", \"PM2.5_H_OUT\", \"PM10_H_OUT\"],\n",
    "]\n",
    "\n",
    "for row in range(3):\n",
    "    fig, axes = plt.subplots(ncols=3, sharey=True, figsize=(40, 10))\n",
    "    for col in range(3):\n",
    "        target_df = df[get_cond(df, \"11110\")][target_cols[row][col]]\n",
    "        ax = target_df.plot(\n",
    "            kind=\"hist\",\n",
    "            bins=100,\n",
    "            # density=1,\n",
    "            title=f\"{target_cols[row][col]}\",\n",
    "            ax=axes[col],\n",
    "            fontsize=17,\n",
    "        )\n",
    "        ax.title.set_size(20)\n",
    "        ax.set_xlabel(\"PM\", fontsize=18)\n",
    "        ax.set_ylabel(\"Frequency\", fontsize=18)"
   ]
  },
  {
   "cell_type": "code",
   "execution_count": null,
   "id": "2f6041d6-da4b-47c7-af6a-a7f0962082f9",
   "metadata": {},
   "outputs": [],
   "source": [
    "import matplotlib.pyplot as plt\n",
    "\n",
    "target_dfs = [train_df, val_df, test_df]\n",
    "dfs_indices = [\"train\", \"val\", \"test\"]\n",
    "# target_cols = [\"PM1\", \"PM2.5\", \"PM10\"]\n",
    "# target_cols = [\"PM1_OUT\", \"PM2.5_OUT\", \"PM10_OUT\"]\n",
    "# target_cols = [\"PM1_H_OUT\", \"PM2.5_H_OUT\", \"PM10_H_OUT\"]\n",
    "# target_cols = [\"PM1_2.5_OUT\", \"PM1_2.5_OUT\", \"PM1_2.5_OUT\"]\n",
    "target_cols = [\"PM2.5\", \"PM1_2.5_OUT\", \"PM1_2.5_H_OUT\", \"PM2.5_10_OUT\", \"PM2.5_10_H_OUT\"]\n",
    "\n",
    "\n",
    "for row in range(len(target_cols)):\n",
    "    fig, axes = plt.subplots(ncols=3, sharex=True, sharey=True, figsize=(40, 10))\n",
    "    for col in range(3):\n",
    "        target_df = target_dfs[col]\n",
    "        target_df = target_df[get_cond(target_df, \"00000\")][target_cols[row]]\n",
    "        ax = target_df.plot(\n",
    "            kind=\"hist\",\n",
    "            bins=100,\n",
    "            # density=1,\n",
    "            title=f\"{target_cols[row]} {dfs_indices[col].upper()}\",\n",
    "            ax=axes[col],\n",
    "            fontsize=17,\n",
    "        )\n",
    "        ax.title.set_size(20)\n",
    "        ax.set_xlabel(\"PM\", fontsize=18)\n",
    "        ax.set_ylabel(\"Frequency\", fontsize=18)"
   ]
  },
  {
   "cell_type": "code",
   "execution_count": null,
   "id": "a89a239c-8165-439c-a36f-4e2e6a14f1a3",
   "metadata": {},
   "outputs": [],
   "source": [
    "def calc_metric(_f, real, pred):\n",
    "    return _f(real, pred)\n",
    "\n",
    "def print_metric(_df):\n",
    "    cols = [\"pm1\", \"pm2.5\", \"pm10\"]\n",
    "    res_indices = [\"Total\", \"Train\", \"Val\", \"Test\"]\n",
    "    metrics = [calc_r2, calc_nmse, calc_fb, calc_b, calc_corrcoef]\n",
    "    metrics_indices = [\"R Square\", \"NMSE\", \"FB\", \"B\", \"Corr\"]\n",
    "    \n",
    "    for col in cols:\n",
    "        print(f\"======== {col} prediction results ========\")\n",
    "        res_dict = {\n",
    "            \"Metric\": metrics_indices,\n",
    "            \"Total\": [],\n",
    "            \"Train\": [],\n",
    "            \"Val\": [],\n",
    "            \"Test\": [],\n",
    "        }\n",
    "\n",
    "        for j, m in enumerate(metrics):\n",
    "            for ri in res_indices:\n",
    "                if ri == 'Total':\n",
    "                    s = calc_metric(m, _df[col.upper()].values, _df[col.upper() + \"_PRED\"].values)\n",
    "                else:\n",
    "                    s = calc_metric(m, _df[_df['TYPE'] == ri.lower()][col.upper()].values, _df[_df['TYPE'] == ri.lower()][col.upper() + \"_PRED\"].values)\n",
    "                res_dict[ri].append(s)\n",
    "\n",
    "        with pd.option_context('display.float_format', '{:0.03f}'.format):\n",
    "            print(pd.DataFrame(res_dict))"
   ]
  },
  {
   "cell_type": "code",
   "execution_count": null,
   "id": "fedbfc66-7bbd-407d-8430-bed818674992",
   "metadata": {},
   "outputs": [],
   "source": [
    "print_metric(df[get_cond(df, \"11110\")])"
   ]
  },
  {
   "cell_type": "code",
   "execution_count": null,
   "id": "fa870149-9288-4d6c-b543-a5f0198f0bf8",
   "metadata": {},
   "outputs": [],
   "source": [
    "import matplotlib.pyplot as plt\n",
    "\n",
    "target_dfs = [train_df, val_df, test_df]\n",
    "dfs_indices = [\"train\", \"val\", \"test\"]\n",
    "target_cols = [\"PERSON_NUMBER\", \"WINDOW\", \"DOOR\", \"AIR_CONDITIONER\", \"AIR_PURIFIER\"]\n",
    "\n",
    "fig, axes = plt.subplots(nrows=len(target_cols), ncols=3, figsize=(40, 60))\n",
    "for row in range(len(target_cols)):\n",
    "    for col in range(3):\n",
    "        target_df = target_dfs[col]\n",
    "        target_df = target_df[target_cols[row]]\n",
    "        ax = target_df.plot(\n",
    "            kind=\"hist\",\n",
    "            bins=15,\n",
    "            title=f\"{target_cols[row]} {dfs_indices[col].upper()}\",\n",
    "            ax=axes[row][col],\n",
    "            fontsize=17,\n",
    "        )\n",
    "        ax.title.set_size(20)\n",
    "        ax.set_xlabel(target_cols[row], fontsize=18)\n",
    "        ax.set_ylabel(\"Frequency\", fontsize=18)"
   ]
  },
  {
   "cell_type": "code",
   "execution_count": null,
   "id": "30616f2f-4b3a-470a-94e7-e210cee1bf49",
   "metadata": {},
   "outputs": [],
   "source": [
    "import matplotlib.pyplot as plt\n",
    "\n",
    "target_dfs = [train_df, val_df, test_df]\n",
    "dfs_indices = [\"train\", \"val\", \"test\"]\n",
    "target_cols = [\"PM1_OUT\", \"PM2.5_OUT\", \"PM10_OUT\"]\n",
    "\n",
    "for row in range(3):\n",
    "    fig, axes = plt.subplots(ncols=3, sharex=True, sharey=True, figsize=(40, 10))\n",
    "    for col in range(3):\n",
    "        target_df = target_dfs[col]\n",
    "        target_df = target_df[cond_11100][target_cols[row]]\n",
    "        ax = target_df.plot(\n",
    "            kind=\"hist\",\n",
    "            bins=100,\n",
    "            density=1,\n",
    "            title=f\"{target_cols[row]} {dfs_indices[col].upper()}\",\n",
    "            ax=axes[col],\n",
    "            fontsize=17,\n",
    "            # xlim=(0, 14),\n",
    "            # ylim=(0, 0.3),\n",
    "        )\n",
    "        ax.title.set_size(20)\n",
    "        ax.set_xlabel(\"PM\", fontsize=18)\n",
    "        ax.set_ylabel(\"Frequency\", fontsize=18)"
   ]
  },
  {
   "cell_type": "code",
   "execution_count": null,
   "id": "5bff755d-18bc-4437-a0f0-d1d4b35fd406",
   "metadata": {},
   "outputs": [],
   "source": [
    "import matplotlib.pyplot as plt\n",
    "\n",
    "target_dfs = [train_df, val_df, test_df]\n",
    "dfs_indices = [\"train\", \"val\", \"test\"]\n",
    "target_cols = [\"PM1_H_OUT\", \"PM2.5_H_OUT\", \"PM10_H_OUT\"]\n",
    "\n",
    "for row in range(3):\n",
    "    fig, axes = plt.subplots(ncols=3, sharex=True, sharey=True, figsize=(40, 10))\n",
    "    for col in range(3):\n",
    "        target_df = target_dfs[col]\n",
    "        target_df = target_df[cond_11100][target_cols[row]]\n",
    "        ax = target_df.plot(\n",
    "            kind=\"hist\",\n",
    "            bins=100,\n",
    "            density=1,\n",
    "            title=f\"{target_cols[row]} {dfs_indices[col].upper()}\",\n",
    "            ax=axes[col],\n",
    "            fontsize=17,\n",
    "            # xlim=(0, 40),\n",
    "            # ylim=(0, 0.3),\n",
    "        )\n",
    "        ax.title.set_size(20)\n",
    "        ax.set_xlabel(\"PM\", fontsize=18)\n",
    "        ax.set_ylabel(\"Frequency\", fontsize=18)"
   ]
  },
  {
   "cell_type": "code",
   "execution_count": null,
   "id": "540b8cda-3136-429b-a1eb-26bd4a0bab82",
   "metadata": {},
   "outputs": [],
   "source": []
  },
  {
   "cell_type": "code",
   "execution_count": null,
   "id": "4fae1e9a-cb9d-458d-86d8-c9ce12b2b9ec",
   "metadata": {},
   "outputs": [],
   "source": [
    "ddd = pd.read_csv(\"project/GRU/GRU05/result/predict/predict.csv\")\n",
    "ddd.index = ddd.pop(\"DATE\").apply(pd.to_datetime)"
   ]
  },
  {
   "cell_type": "code",
   "execution_count": null,
   "id": "cf1c3751-c161-4fe6-b8ae-b2d095b3ee1a",
   "metadata": {},
   "outputs": [],
   "source": [
    "real = ddd[ddd.index.isin(test_df.index)][\"PM2.5\"].values\n",
    "pred = ddd[ddd.index.isin(test_df.index)][\"PM2.5_PRED\"].values"
   ]
  },
  {
   "cell_type": "code",
   "execution_count": null,
   "id": "65c96084-5709-4f30-8070-bc2d7c6428f4",
   "metadata": {},
   "outputs": [],
   "source": [
    "plot(\n",
    "    ddd[\n",
    "        (ddd[\"PERSON_NUMBER\"] == 0)\n",
    "        & (ddd[\"AIR_PURIFIER\"] == 0)\n",
    "        & (ddd[\"AIR_CONDITIONER\"] == 0)\n",
    "        & (ddd[\"WINDOW\"] != 0)\n",
    "        & (ddd[\"DOOR\"] == 0)\n",
    "    ],\n",
    "    [\"PM2.5\", \"PM2.5_PRED\", \"PERSON_NUMBER\"],\n",
    ")"
   ]
  },
  {
   "cell_type": "code",
   "execution_count": null,
   "id": "0f6841a1-cd00-4c95-b012-d71e5d204f8e",
   "metadata": {},
   "outputs": [],
   "source": [
    "raw_particle_df = pd.read_csv(\n",
    "    \"http://api.khu-cpfd.com:9019/v1/logs/file/particle?machine=107,120,121,124,134,199\"\n",
    ")\n",
    "raw_particle_df.index = raw_particle_df.pop(\"DATE\").apply(pd.to_datetime).dt.floor(\"T\")"
   ]
  },
  {
   "cell_type": "code",
   "execution_count": null,
   "id": "04beaa18-c996-4314-8a78-a388adc7296e",
   "metadata": {},
   "outputs": [],
   "source": [
    "df_107 = raw_particle_df[raw_particle_df[\"MACHINE\"] == 107]\n",
    "df_120 = raw_particle_df[raw_particle_df[\"MACHINE\"] == 120]\n",
    "df_121 = raw_particle_df[raw_particle_df[\"MACHINE\"] == 121]\n",
    "df_124 = raw_particle_df[raw_particle_df[\"MACHINE\"] == 124]\n",
    "df_134 = raw_particle_df[raw_particle_df[\"MACHINE\"] == 134]\n",
    "df_199 = raw_particle_df[raw_particle_df[\"MACHINE\"] == 199]"
   ]
  },
  {
   "cell_type": "code",
   "execution_count": null,
   "id": "7dedf37c-c877-4297-a088-d902526819f1",
   "metadata": {},
   "outputs": [],
   "source": [
    "plot(df_134, [\"PM1\", \"PM2.5\", \"PM10\"])"
   ]
  },
  {
   "cell_type": "code",
   "execution_count": null,
   "id": "16f4867c-b84c-44a7-8739-9a66d65f73ec",
   "metadata": {},
   "outputs": [],
   "source": []
  }
 ],
 "metadata": {
  "kernelspec": {
   "display_name": "Python 3 (ipykernel)",
   "language": "python",
   "name": "python3"
  },
  "language_info": {
   "codemirror_mode": {
    "name": "ipython",
    "version": 3
   },
   "file_extension": ".py",
   "mimetype": "text/x-python",
   "name": "python",
   "nbconvert_exporter": "python",
   "pygments_lexer": "ipython3",
   "version": "3.9.0"
  }
 },
 "nbformat": 4,
 "nbformat_minor": 5
}
